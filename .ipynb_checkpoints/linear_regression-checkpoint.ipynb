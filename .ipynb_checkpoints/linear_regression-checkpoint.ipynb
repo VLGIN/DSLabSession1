{
 "cells": [
  {
   "cell_type": "code",
   "execution_count": 1,
   "id": "educational-referral",
   "metadata": {},
   "outputs": [],
   "source": [
    "import numpy as np"
   ]
  },
  {
   "cell_type": "code",
   "execution_count": 2,
   "id": "confirmed-chapter",
   "metadata": {},
   "outputs": [],
   "source": [
    "input_file = open('input_file.txt', 'r')\n",
    "data = input_file.readlines()\n",
    "input_file.close()"
   ]
  },
  {
   "cell_type": "code",
   "execution_count": 3,
   "id": "angry-sleeping",
   "metadata": {},
   "outputs": [],
   "source": [
    "X = []\n",
    "y = []"
   ]
  },
  {
   "cell_type": "code",
   "execution_count": 4,
   "id": "responsible-chosen",
   "metadata": {},
   "outputs": [],
   "source": [
    "for index, item in enumerate(data):\n",
    "    temp = item[:-1].split('  ')\n",
    "    X.append([])\n",
    "    for inde in range(0, len(temp) - 1, 1):\n",
    "        try:\n",
    "            X[index].append(float(temp[inde]))\n",
    "        except:\n",
    "            pass\n",
    "    y.append(float(temp[-1]))"
   ]
  },
  {
   "cell_type": "code",
   "execution_count": 5,
   "id": "annoying-clearing",
   "metadata": {},
   "outputs": [],
   "source": [
    "X = np.array(X)"
   ]
  },
  {
   "cell_type": "code",
   "execution_count": 6,
   "id": "boolean-passage",
   "metadata": {},
   "outputs": [],
   "source": [
    "y = np.array(y).reshape(60,1)"
   ]
  },
  {
   "cell_type": "code",
   "execution_count": 7,
   "id": "flush-extra",
   "metadata": {},
   "outputs": [],
   "source": [
    "def normalize_and_add_ones(X):\n",
    "    X = np.array(X)\n",
    "    \n",
    "    X_max = np.array(([[np.amax(X[:, column_id])\n",
    "              for column_id in range(X.shape[1])]\n",
    "              for _ in range(X.shape[0])]))\n",
    "    \n",
    "    X_min = np.array(([[np.amin(X[:, column_id])\n",
    "              for column_id in range(X.shape[1])]\n",
    "              for _ in range(X.shape[0])]))\n",
    "    \n",
    "    X_normalized = (X - X_min) / (X_max - X_min)\n",
    "    \n",
    "    ones = np.ones((X.shape[0],1))\n",
    "    \n",
    "    return np.column_stack((ones, X_normalized))"
   ]
  },
  {
   "cell_type": "code",
   "execution_count": 8,
   "id": "union-forward",
   "metadata": {},
   "outputs": [],
   "source": [
    "normalized_X = normalize_and_add_ones(X)"
   ]
  },
  {
   "cell_type": "code",
   "execution_count": 9,
   "id": "amateur-subject",
   "metadata": {},
   "outputs": [
    {
     "data": {
      "text/plain": [
       "(60, 16)"
      ]
     },
     "execution_count": 9,
     "metadata": {},
     "output_type": "execute_result"
    }
   ],
   "source": [
    "normalized_X.shape"
   ]
  },
  {
   "cell_type": "code",
   "execution_count": 129,
   "id": "humanitarian-grenada",
   "metadata": {},
   "outputs": [],
   "source": [
    "class RidgeRegression:\n",
    "    def __init__(self):\n",
    "        return\n",
    "    def fit(self, X_train, Y_train, LAMBDA):\n",
    "        assert len(X_train.shape) ==  2 and X_train.shape[0] == Y_train.shape[0]\n",
    "        \n",
    "        W = np.linalg.inv(X_train.transpose().dot(X_train) + LAMBDA * np.identity(X_train.shape[1])\n",
    "                         ).dot(X_train.transpose()).dot(Y_train)\n",
    "        return W\n",
    "    def predict(self, W, X_new):\n",
    "        X_new = np.array(X_new)\n",
    "        W = W.reshape(X_new.shape[1], 1)\n",
    "        return X_new.dot(W)\n",
    "    def compute_RSS(self, Y_new, Y_predicted):\n",
    "        diff = Y_new - Y_predicted\n",
    "        RSS = np.sum(diff ** 2) / Y_new.shape[0]\n",
    "        return RSS\n",
    "    def fit_gradient_descent(self, X_train, Y_train, LAMBDA, learning_rate, max_num_epoch=100, batch_size = 128):\n",
    "        W = np.random.randn(X_train.shape[1], 1)\n",
    "        last_loss = 10e+8\n",
    "        for ep in range(max_num_epoch):\n",
    "            arr = np.array(range(X_train.shape[0]))\n",
    "            np.random.shuffle(arr)\n",
    "            X_train = X_train[arr]\n",
    "            Y_train = Y_train[arr]\n",
    "            total_minibatch = int(np.ceil(X_train.shape[0] / batch_size))\n",
    "            \n",
    "            for i in range(total_minibatch):\n",
    "                index = i * batch_size\n",
    "                X_train_sub = X_train[index: index + batch_size]\n",
    "                Y_train_sub = Y_train[index: index + batch_size]\n",
    "\n",
    "                grad = X_train_sub.T.dot(X_train_sub.dot(W) - Y_train_sub) + LAMBDA * W\n",
    "                assert grad.shape == (16, 1), grad.shape\n",
    "                W = W - learning_rate * grad\n",
    "            new_loss = self.compute_RSS(self.predict(W, X_train), Y_train)\n",
    "            if(np.abs(new_loss - last_loss) < 1e-5):\n",
    "                break\n",
    "            last_loss = new_loss\n",
    "        return W\n",
    "    def get_the_best_LAMBDA(self, X_train, Y_train):\n",
    "        def cross_validation(num_folds, LAMBDA):\n",
    "            row_ids = np.array(range(X_train.shape[0]))\n",
    "            valid_ids = np.split(row_ids[:len(row_ids) - len(row_ids) % num_folds], num_folds)\n",
    "            valid_ids[-1] = np.append(valid_ids[-1], row_ids[len(row_ids) - len(row_ids)%num_folds:])\n",
    "            train_ids = [[k for k in row_ids if k not in valid_ids[i]] for i in range(num_folds)]\n",
    "            aver_RSS = 0\n",
    "            for i in range(num_folds):\n",
    "                valid_part = {'X': X_train[valid_ids[i]], 'Y': Y_train[valid_ids[i]]}\n",
    "                train_part = {'X': X_train[train_ids[i]], 'Y': Y_train[train_ids[i]]}\n",
    "                W = self.fit(train_part['X'], train_part['Y'], LAMBDA)\n",
    "                Y_predicted = self.predict(W, valid_part['X'])\n",
    "                aver_RSS += self.compute_RSS(valid_part['Y'], Y_predicted)\n",
    "            return aver_RSS / num_folds\n",
    "        def range_scan(best_LAMBDA, minimum_RSS, LAMBDA_values):\n",
    "            for current_LAMBDA in LAMBDA_values:\n",
    "                aver_RSS = cross_validation(num_folds=5, LAMBDA=current_LAMBDA)\n",
    "                if aver_RSS < minimum_RSS:\n",
    "                    best_LAMBDA = current_LAMBDA\n",
    "                    minimum_RSS = aver_RSS\n",
    "            return best_LAMBDA, minimum_RSS\n",
    "        best_LAMBDA, minimum_RSS = range_scan(best_LAMBDA = 0, minimum_RSS = 10000 ** 2, \n",
    "                                             LAMBDA_values = range(50))\n",
    "        LAMBDA_values = [k * 1. / 1000 for k in range(\n",
    "            max(0,(best_LAMBDA - 1) * 1000), (best_LAMBDA + 1) * 1000, 1)]\n",
    "        best_LAMBDA, minimum_RSS = range_scan(best_LAMBDA = best_LAMBDA, minimum_RSS=minimum_RSS,\n",
    "                                             LAMBDA_values = LAMBDA_values)\n",
    "        return best_LAMBDA"
   ]
  },
  {
   "cell_type": "code",
   "execution_count": 130,
   "id": "signal-shopper",
   "metadata": {},
   "outputs": [
    {
     "name": "stdout",
     "output_type": "stream",
     "text": [
      "Best LAMBDA:  0.002\n",
      "1527.0698078022197\n"
     ]
    }
   ],
   "source": [
    "X_train, Y_train = normalized_X[:50], y[:50]\n",
    "X_test, Y_test = normalized_X[50:], y[50:]\n",
    "\n",
    "ridge_regression = RidgeRegression()\n",
    "best_LAMBDA = ridge_regression.get_the_best_LAMBDA(X_train, Y_train)\n",
    "print( 'Best LAMBDA: ', best_LAMBDA)\n",
    "W_learned = ridge_regression.fit(X_train = X_train, Y_train = Y_train, LAMBDA = best_LAMBDA)\n",
    "y_predicted = ridge_regression.predict(W = W_learned, X_new = X_test)\n",
    "print(ridge_regression.compute_RSS(Y_new = Y_test, Y_predicted=y_predicted))"
   ]
  },
  {
   "cell_type": "code",
   "execution_count": null,
   "id": "thrown-extent",
   "metadata": {},
   "outputs": [],
   "source": []
  }
 ],
 "metadata": {
  "kernelspec": {
   "display_name": "internship",
   "language": "python",
   "name": "internship"
  },
  "language_info": {
   "codemirror_mode": {
    "name": "ipython",
    "version": 3
   },
   "file_extension": ".py",
   "mimetype": "text/x-python",
   "name": "python",
   "nbconvert_exporter": "python",
   "pygments_lexer": "ipython3",
   "version": "3.9.2"
  }
 },
 "nbformat": 4,
 "nbformat_minor": 5
}
